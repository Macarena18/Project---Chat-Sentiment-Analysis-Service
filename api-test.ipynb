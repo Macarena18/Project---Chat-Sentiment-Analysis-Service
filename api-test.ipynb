{
 "cells": [
  {
   "cell_type": "markdown",
   "metadata": {},
   "source": [
    "# API TESTS:"
   ]
  },
  {
   "cell_type": "code",
   "execution_count": 1,
   "metadata": {},
   "outputs": [],
   "source": [
    "import requests\n",
    "import json\n",
    "from bson.json_util import dumps"
   ]
  },
  {
   "cell_type": "markdown",
   "metadata": {},
   "source": [
    "### Get data (get.py):"
   ]
  },
  {
   "cell_type": "markdown",
   "metadata": {},
   "source": [
    "**Welcome Message:**"
   ]
  },
  {
   "cell_type": "code",
   "execution_count": 2,
   "metadata": {},
   "outputs": [
    {
     "data": {
      "text/plain": [
       "<Response [200]>"
      ]
     },
     "execution_count": 2,
     "metadata": {},
     "output_type": "execute_result"
    }
   ],
   "source": [
    "url='http://localhost:3000/'\n",
    "requests.get(url)"
   ]
  },
  {
   "cell_type": "markdown",
   "metadata": {},
   "source": [
    "**List of chats:**"
   ]
  },
  {
   "cell_type": "code",
   "execution_count": 3,
   "metadata": {},
   "outputs": [
    {
     "data": {
      "text/plain": [
       "[{'chat_id': 1, 'chat_name': 'sports'},\n",
       " {'chat_id': 2, 'chat_name': 'movies'},\n",
       " {'chat_id': 3, 'chat_name': 'music'},\n",
       " {'chat_id': 4, 'chat_name': 'travel'},\n",
       " {'chat_id': 10, 'chat_name': 'sky'},\n",
       " {'chat_id': 12, 'chat_name': 'danza'},\n",
       " {'chat_id': 13, 'chat_name': 'cine'},\n",
       " {'chat_id': 14, 'chat_name': 'verano'},\n",
       " {'chat_id': 17, 'chat_name': 'compra'},\n",
       " {'chat_id': 18, 'chat_name': 'mudanza'},\n",
       " {'chat_id': 19, 'chat_name': 'excursion'},\n",
       " {'chat_id': 20, 'chat_name': 'viaje'}]"
      ]
     },
     "execution_count": 3,
     "metadata": {},
     "output_type": "execute_result"
    }
   ],
   "source": [
    "url='http://localhost:3000/chats'\n",
    "requests.get(url).json()"
   ]
  },
  {
   "cell_type": "markdown",
   "metadata": {},
   "source": [
    "**List of users:**"
   ]
  },
  {
   "cell_type": "code",
   "execution_count": 4,
   "metadata": {},
   "outputs": [
    {
     "data": {
      "text/plain": [
       "[{'user_id': 1, 'user_name': 'Nick'},\n",
       " {'user_id': 2, 'user_name': 'Tom'},\n",
       " {'user_id': 3, 'user_name': 'Luca'},\n",
       " {'user_id': 4, 'user_name': 'Grace'},\n",
       " {'user_id': 5, 'user_name': 'Lilly'},\n",
       " {'user_id': 6, 'user_name': 'Sarah'},\n",
       " {'user_id': 7, 'user_name': 'Liam'},\n",
       " {'user_id': 8, 'user_name': 'Maca'},\n",
       " {'user_id': 9, 'user_name': 'Simon'},\n",
       " {'user_id': 10, 'user_name': 'Lola'},\n",
       " {'user_id': 11, 'user_name': 'Cris'},\n",
       " {'user_id': 12, 'user_name': 'Eva'},\n",
       " {'user_id': 13, 'user_name': 'Luis'},\n",
       " {'user_id': 14, 'user_name': 'Lara'},\n",
       " {'user_id': 15, 'user_name': 'Jon'},\n",
       " {'user_id': 16, 'user_name': 'Sam'},\n",
       " {'user_id': 17, 'user_name': 'pepee'},\n",
       " {'user_id': 18, 'user_name': 'Angela'}]"
      ]
     },
     "execution_count": 4,
     "metadata": {},
     "output_type": "execute_result"
    }
   ],
   "source": [
    "url='http://localhost:3000/users'\n",
    "requests.get(url).json()"
   ]
  },
  {
   "cell_type": "markdown",
   "metadata": {},
   "source": [
    "**Messages for an specific username:**"
   ]
  },
  {
   "cell_type": "code",
   "execution_count": 5,
   "metadata": {},
   "outputs": [
    {
     "data": {
      "text/plain": [
       "[{'chat_id': 1,\n",
       "  'chat_name': 'sports',\n",
       "  'message_id': 1,\n",
       "  'message_text': 'What sports do you like?'}]"
      ]
     },
     "execution_count": 5,
     "metadata": {},
     "output_type": "execute_result"
    }
   ],
   "source": [
    "url='http://localhost:3000/users/Nick'\n",
    "requests.get(url).json()"
   ]
  },
  {
   "cell_type": "markdown",
   "metadata": {},
   "source": [
    "**Messages for an specific chat:**"
   ]
  },
  {
   "cell_type": "code",
   "execution_count": 6,
   "metadata": {},
   "outputs": [
    {
     "data": {
      "text/plain": [
       "[{'user_name': 'Liam',\n",
       "  'user_id': 7,\n",
       "  'message_id': 11,\n",
       "  'message_text': 'What music do you guys like to listen to? '},\n",
       " {'user_name': 'Sarah',\n",
       "  'user_id': 6,\n",
       "  'message_id': 12,\n",
       "  'message_text': 'I really like to listen pop music'},\n",
       " {'user_name': 'Lilly',\n",
       "  'user_id': 5,\n",
       "  'message_id': 14,\n",
       "  'message_text': 'What’s your favorite band / singer? I like Sia.'},\n",
       " {'user_name': 'Sarah',\n",
       "  'user_id': 6,\n",
       "  'message_id': 15,\n",
       "  'message_text': 'My favourite artist is Rihanna! '}]"
      ]
     },
     "execution_count": 6,
     "metadata": {},
     "output_type": "execute_result"
    }
   ],
   "source": [
    "url='http://localhost:3000/chats/music'\n",
    "requests.get(url).json()"
   ]
  },
  {
   "cell_type": "markdown",
   "metadata": {},
   "source": [
    "**Return all messages:**"
   ]
  },
  {
   "cell_type": "code",
   "execution_count": 7,
   "metadata": {},
   "outputs": [
    {
     "data": {
      "text/plain": [
       "{'_id': {'$oid': '5eab1ba90d4c825c932cb7a1'},\n",
       " 'user_name': 'Nick',\n",
       " 'user_id': 1,\n",
       " 'chat_id': 1,\n",
       " 'chat_name': 'sports',\n",
       " 'message_id': 1,\n",
       " 'message_text': 'What sports do you like?'}"
      ]
     },
     "execution_count": 7,
     "metadata": {},
     "output_type": "execute_result"
    }
   ],
   "source": [
    "url='http://localhost:3000/messages'\n",
    "res=requests.get(url).json()\n",
    "res[0]"
   ]
  },
  {
   "cell_type": "markdown",
   "metadata": {},
   "source": [
    "### Add data (create.py):"
   ]
  },
  {
   "cell_type": "markdown",
   "metadata": {},
   "source": [
    "**Create new user:**\n"
   ]
  },
  {
   "cell_type": "code",
   "execution_count": 9,
   "metadata": {},
   "outputs": [
    {
     "data": {
      "text/plain": [
       "'Sucess! user_id:19,user_name:Lucas'"
      ]
     },
     "execution_count": 9,
     "metadata": {},
     "output_type": "execute_result"
    }
   ],
   "source": [
    "requests.get('http://localhost:3000/users/create/Lucas').json()"
   ]
  },
  {
   "cell_type": "markdown",
   "metadata": {},
   "source": [
    "**Create new chat with users (param=username):**"
   ]
  },
  {
   "cell_type": "code",
   "execution_count": 10,
   "metadata": {},
   "outputs": [
    {
     "data": {
      "text/plain": [
       "'Success! chat_id:21,chat_name:merienda, users:1'"
      ]
     },
     "execution_count": 10,
     "metadata": {},
     "output_type": "execute_result"
    }
   ],
   "source": [
    "requests.get('http://localhost:3000/chats/create/merienda?param=Nick').json()"
   ]
  },
  {
   "cell_type": "markdown",
   "metadata": {},
   "source": [
    "**Add user to chat:**"
   ]
  },
  {
   "cell_type": "code",
   "execution_count": 11,
   "metadata": {},
   "outputs": [
    {
     "data": {
      "text/plain": [
       "'Success! chat_id:21,chat_name:merienda, users:19, new_user:Lucas'"
      ]
     },
     "execution_count": 11,
     "metadata": {},
     "output_type": "execute_result"
    }
   ],
   "source": [
    "requests.get('http://localhost:3000/chats/merienda/adduser/Lucas').json()"
   ]
  },
  {
   "cell_type": "markdown",
   "metadata": {},
   "source": [
    "**Add message to chat:**"
   ]
  },
  {
   "cell_type": "code",
   "execution_count": 15,
   "metadata": {},
   "outputs": [
    {
     "data": {
      "text/plain": [
       "'Success! chat_id:21,chat_name:merienda, user_id:2, user_name:Tom,message_id:20,message_text:Hola que tal'"
      ]
     },
     "execution_count": 15,
     "metadata": {},
     "output_type": "execute_result"
    }
   ],
   "source": [
    "requests.get('http://localhost:3000/chats/merienda/addmessage/Tom?messagetext=Hola%20que%20tal').json()"
   ]
  },
  {
   "cell_type": "markdown",
   "metadata": {},
   "source": [
    "### Sentiment Analysis:"
   ]
  },
  {
   "cell_type": "markdown",
   "metadata": {},
   "source": [
    "**By chats:**"
   ]
  },
  {
   "cell_type": "code",
   "execution_count": 16,
   "metadata": {},
   "outputs": [
    {
     "data": {
      "text/plain": [
       "{'Chat Sentiment': {'Negative': 0.0, 'Neutral': 0.89, 'Positive': 0.11},\n",
       " 'Sentiment Messages': {'Messages': ['Liam:Where have you been on vacation?',\n",
       "   'Luca:I visited Rome. I really like it. Have you ever been there? ',\n",
       "   'Grace:Rome is my favourite city. I went last year and i really like it.',\n",
       "   'Tom:I prefer London. There are a lot of restaurants, museums, a lot of places to visit, people is very nice...'],\n",
       "  'Polarity_scores': [{'compound': 0.0, 'neg': 0.0, 'neu': 1.0, 'pos': 0.0},\n",
       "   {'compound': 0.4201, 'neg': 0.0, 'neu': 0.763, 'pos': 0.237},\n",
       "   {'compound': 0.4201, 'neg': 0.0, 'neu': 0.798, 'pos': 0.202},\n",
       "   {'compound': 0.0, 'neg': 0.0, 'neu': 1.0, 'pos': 0.0}]}}"
      ]
     },
     "execution_count": 16,
     "metadata": {},
     "output_type": "execute_result"
    }
   ],
   "source": [
    "requests.get('http://localhost:3000/chats/travel/sentiment').json()"
   ]
  },
  {
   "cell_type": "markdown",
   "metadata": {},
   "source": [
    "**By users:**"
   ]
  },
  {
   "cell_type": "code",
   "execution_count": 19,
   "metadata": {},
   "outputs": [
    {
     "data": {
      "text/plain": [
       "{'Messages Sentiment': {'Messages': ['movies:I recommend you to see Scary movie!',\n",
       "   'music:I really like to listen pop music',\n",
       "   'music:My favourite artist is Rihanna! '],\n",
       "  'Polarity_scores': [{'compound': -0.2481,\n",
       "    'neg': 0.349,\n",
       "    'neu': 0.4,\n",
       "    'pos': 0.25},\n",
       "   {'compound': 0.4201, 'neg': 0.0, 'neu': 0.642, 'pos': 0.358},\n",
       "   {'compound': 0.0, 'neg': 0.0, 'neu': 1.0, 'pos': 0.0}]},\n",
       " 'User Sentiment': {'Negative': 0.12, 'Neutral': 0.68, 'Positive': 0.2}}"
      ]
     },
     "execution_count": 19,
     "metadata": {},
     "output_type": "execute_result"
    }
   ],
   "source": [
    "requests.get('http://localhost:3000/users/Sarah/sentiment').json()"
   ]
  },
  {
   "cell_type": "markdown",
   "metadata": {},
   "source": [
    "### Recomend top similar 3 users:"
   ]
  },
  {
   "cell_type": "code",
   "execution_count": 17,
   "metadata": {},
   "outputs": [
    {
     "data": {
      "text/plain": [
       "{'Grace': 0.5078333750770082,\n",
       " 'Liam': 0.512989176042577,\n",
       " 'Luca': 0.447213595499958}"
      ]
     },
     "execution_count": 17,
     "metadata": {},
     "output_type": "execute_result"
    }
   ],
   "source": [
    "requests.get('http://localhost:3000/users/Nick/recommend').json()"
   ]
  }
 ],
 "metadata": {
  "kernelspec": {
   "display_name": "Python 3",
   "language": "python",
   "name": "python3"
  },
  "language_info": {
   "codemirror_mode": {
    "name": "ipython",
    "version": 3
   },
   "file_extension": ".py",
   "mimetype": "text/x-python",
   "name": "python",
   "nbconvert_exporter": "python",
   "pygments_lexer": "ipython3",
   "version": "3.7.7"
  }
 },
 "nbformat": 4,
 "nbformat_minor": 4
}
